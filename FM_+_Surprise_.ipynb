{
  "nbformat": 4,
  "nbformat_minor": 0,
  "metadata": {
    "colab": {
      "name": "FM  + Surprise .ipynb",
      "provenance": [],
      "collapsed_sections": [],
      "machine_shape": "hm"
    },
    "kernelspec": {
      "name": "python3",
      "display_name": "Python 3"
    },
    "accelerator": "GPU"
  },
  "cells": [
    {
      "cell_type": "markdown",
      "metadata": {
        "id": "RmOmKC0UFBTu",
        "colab_type": "text"
      },
      "source": [
        "# **Factorization Machine**\n",
        "- breast cancer data"
      ]
    },
    {
      "cell_type": "code",
      "metadata": {
        "id": "USK4qi52EhTY",
        "colab_type": "code",
        "colab": {}
      },
      "source": [
        "import numpy as np\n",
        "import pandas as pd\n",
        "import tensorflow as tf\n",
        "from tensorflow.keras.metrics import BinaryAccuracy\n",
        "from sklearn.preprocessing import MinMaxScaler\n",
        "from sklearn.model_selection import train_test_split"
      ],
      "execution_count": 1,
      "outputs": []
    },
    {
      "cell_type": "code",
      "metadata": {
        "id": "P5-7cSvaFAyw",
        "colab_type": "code",
        "colab": {}
      },
      "source": [
        "# data : breast_cancer(30개의 변수를 기반으로 암 발생여부 예측)\n",
        "from sklearn.datasets import load_breast_cancer\n",
        "file = load_breast_cancer()\n",
        "X, Y = file['data'], file['target']\n",
        "\n",
        "# scaling\n",
        "scaler = MinMaxScaler()\n",
        "X = scaler.fit_transform(X)"
      ],
      "execution_count": 4,
      "outputs": []
    },
    {
      "cell_type": "code",
      "metadata": {
        "id": "m9OBYvLfFAvO",
        "colab_type": "code",
        "colab": {}
      },
      "source": [
        "n = X.shape[0] # 569\n",
        "p = X.shape[1] # 30(예측변수 개수)\n",
        "k = 10 # 잠재변수 개수\n",
        "batch_size = 8\n",
        "epochs = 10"
      ],
      "execution_count": 9,
      "outputs": []
    },
    {
      "cell_type": "markdown",
      "metadata": {
        "id": "ibLzyB70G_sN",
        "colab_type": "text"
      },
      "source": [
        "### FM Modeling\n",
        "(Not recommendation)"
      ]
    },
    {
      "cell_type": "code",
      "metadata": {
        "id": "WqDXDKsBFAr9",
        "colab_type": "code",
        "colab": {}
      },
      "source": [
        "class FM(tf.keras.Model):\n",
        "  def __init__(self):\n",
        "    super(FM, self).__init__()\n",
        "\n",
        "    # parameter\n",
        "    self.w0 = tf.Variable([0.0])\n",
        "    self.w = tf.Variable(tf.zeros([p]))\n",
        "    self.V = tf.Variable(tf.random.normal(shape=(p, k)))\n",
        "  \n",
        "  # 방정식 구현\n",
        "  def call(self, inputs):\n",
        "    # 선형결합\n",
        "    linear_terms = tf.reduce_sum(tf.math.multiply(self.w, inputs), axis=1) # input(x)와 w를 곱해 시그마\n",
        "\n",
        "    # interactions(논문의 재표현된 식 사용)\n",
        "    interactions = 0.5 * tf.reduce_sum(\n",
        "        tf.math.pow(tf.matmul(inputs, self.V), 2) \n",
        "        - tf.matmul(tf.math.pow(inputs, 2), tf.math.pow(self.V, 2)), 1, keepdims=False \n",
        "        # matmul : 3차원 텐서사이의 행렬 곱\n",
        "    )\n",
        "\n",
        "    # 선형 방정식 : sigmoid 사용\n",
        "    y_hat = tf.math.sigmoid(self.w0 + linear_terms + interactions)\n",
        "    return y_hat"
      ],
      "execution_count": 10,
      "outputs": []
    },
    {
      "cell_type": "code",
      "metadata": {
        "id": "53ZwUdbNZpci",
        "colab_type": "code",
        "colab": {}
      },
      "source": [
        "# Forward\n",
        "def train_on_batch(model, optimizer, accuracy, inputs, targets):\n",
        "    with tf.GradientTape() as tape:\n",
        "        y_pred = model(inputs)\n",
        "        # loss = cross entropy(이진 분류)\n",
        "        loss = tf.keras.losses.binary_crossentropy(from_logits=False,\n",
        "                                                   y_true=targets,\n",
        "                                                   y_pred=y_pred)\n",
        "    # loss를 파라미터로 편미분해 gradient를 구함\n",
        "    grads = tape.gradient(target=loss, sources=model.trainable_variables)\n",
        "    # apply_gradients()를 통해 processed gradients를 적용\n",
        "    optimizer.apply_gradients(zip(grads, model.trainable_variables))\n",
        "    # accuracy: update할 때마다 정확도는 누적 업데이트 \n",
        "    accuracy.update_state(targets, y_pred)\n",
        "\n",
        "    return loss\n",
        "\n",
        "\n",
        "# 반복 학습 함수\n",
        "def train(epochs):\n",
        "    X_train, X_test, Y_train, Y_test = train_test_split(X, Y, test_size=0.2, stratify=Y)\n",
        "\n",
        "    train_ds = tf.data.Dataset.from_tensor_slices(\n",
        "        (tf.cast(X_train, tf.float32), tf.cast(Y_train, tf.float32))).shuffle(500).batch(8)\n",
        "\n",
        "    test_ds = tf.data.Dataset.from_tensor_slices(\n",
        "        (tf.cast(X_test, tf.float32), tf.cast(Y_test, tf.float32))).shuffle(200).batch(8)\n",
        "\n",
        "    model = FM()\n",
        "    optimizer = tf.keras.optimizers.SGD(learning_rate=0.01) # SGD 사용\n",
        "    accuracy = BinaryAccuracy(threshold=0.5)\n",
        "    loss_history = []\n",
        "\n",
        "    for i in range(epochs):\n",
        "      for x, y in train_ds:\n",
        "          loss = train_on_batch(model, optimizer, accuracy, x, y)\n",
        "          loss_history.append(loss)\n",
        "\n",
        "      if i % 2== 0:\n",
        "          print(\"스텝 {:03d}에서 누적 평균 손실: {:.4f}\".format(i, np.mean(loss_history)))\n",
        "          print(\"스텝 {:03d}에서 누적 정확도: {:.4f}\".format(i, accuracy.result().numpy()))\n",
        "\n",
        "\n",
        "    test_accuracy = BinaryAccuracy(threshold=0.5)\n",
        "    for x, y in test_ds:\n",
        "        y_pred = model(x)\n",
        "        test_accuracy.update_state(y, y_pred)\n",
        "\n",
        "    print(\"테스트 정확도: {:.4f}\".format(test_accuracy.result().numpy()))"
      ],
      "execution_count": 11,
      "outputs": []
    },
    {
      "cell_type": "code",
      "metadata": {
        "id": "4Oje60_JRDG8",
        "colab_type": "code",
        "colab": {
          "base_uri": "https://localhost:8080/",
          "height": 559
        },
        "outputId": "c2bd67af-1e81-4ea3-e9a6-c4122bb84526"
      },
      "source": [
        "# epoch = 50\n",
        "train(30)"
      ],
      "execution_count": 12,
      "outputs": [
        {
          "output_type": "stream",
          "text": [
            "스텝 000에서 누적 평균 손실: 1.1700\n",
            "스텝 000에서 누적 정확도: 0.4906\n",
            "스텝 002에서 누적 평균 손실: 0.7489\n",
            "스텝 002에서 누적 정확도: 0.6933\n",
            "스텝 004에서 누적 평균 손실: 0.6140\n",
            "스텝 004에서 누적 정확도: 0.7585\n",
            "스텝 006에서 누적 평균 손실: 0.5396\n",
            "스텝 006에서 누적 정확도: 0.7933\n",
            "스텝 008에서 누적 평균 손실: 0.4900\n",
            "스텝 008에서 누적 정확도: 0.8161\n",
            "스텝 010에서 누적 평균 손실: 0.4539\n",
            "스텝 010에서 누적 정확도: 0.8325\n",
            "스텝 012에서 누적 평균 손실: 0.4259\n",
            "스텝 012에서 누적 정확도: 0.8453\n",
            "스텝 014에서 누적 평균 손실: 0.4034\n",
            "스텝 014에서 누적 정확도: 0.8556\n",
            "스텝 016에서 누적 평균 손실: 0.3847\n",
            "스텝 016에서 누적 정확도: 0.8636\n",
            "스텝 018에서 누적 평균 손실: 0.3688\n",
            "스텝 018에서 누적 정확도: 0.8701\n",
            "스텝 020에서 누적 평균 손실: 0.3551\n",
            "스텝 020에서 누적 정확도: 0.8757\n",
            "스텝 022에서 누적 평균 손실: 0.3430\n",
            "스텝 022에서 누적 정확도: 0.8808\n",
            "스텝 024에서 누적 평균 손실: 0.3323\n",
            "스텝 024에서 누적 정확도: 0.8852\n",
            "스텝 026에서 누적 평균 손실: 0.3227\n",
            "스텝 026에서 누적 정확도: 0.8889\n",
            "스텝 028에서 누적 평균 손실: 0.3140\n",
            "스텝 028에서 누적 정확도: 0.8924\n",
            "테스트 정확도: 0.9417\n"
          ],
          "name": "stdout"
        }
      ]
    },
    {
      "cell_type": "markdown",
      "metadata": {
        "id": "PfAGf_uCeO4Z",
        "colab_type": "text"
      },
      "source": [
        "## Feature vectorize\n",
        "- **sklearn.feature_extraction.DictVectorize**    \n",
        ": dict을 array나 sparse matrix로 변환해줌. 문자열은 one-hot encoding.     \n",
        "\n"
      ]
    },
    {
      "cell_type": "code",
      "metadata": {
        "id": "myWb4DGAFAkW",
        "colab_type": "code",
        "colab": {
          "base_uri": "https://localhost:8080/",
          "height": 52
        },
        "outputId": "63e1aefe-9852-489d-fb2d-ffb8941b0f24"
      },
      "source": [
        "from sklearn.feature_extraction import DictVectorizer\n",
        "v = DictVectorizer(sparse=False) # sparse = True : sparse matrix로 반환\n",
        "dic = [ {'daeun':1, 'jungmin':2}, {'kihong':3, 'boaz':2}]\n",
        "X = v.fit_transform(dic)\n",
        "X   # 2*4 array 반환, abcd 순서"
      ],
      "execution_count": 13,
      "outputs": [
        {
          "output_type": "execute_result",
          "data": {
            "text/plain": [
              "array([[0., 1., 2., 0.],\n",
              "       [2., 0., 0., 3.]])"
            ]
          },
          "metadata": {
            "tags": []
          },
          "execution_count": 13
        }
      ]
    },
    {
      "cell_type": "code",
      "metadata": {
        "id": "gIDR4PEpFAiV",
        "colab_type": "code",
        "colab": {
          "base_uri": "https://localhost:8080/",
          "height": 34
        },
        "outputId": "dd897c2c-ca52-4253-c3d9-e1d71ad6cd9f"
      },
      "source": [
        "v.inverse_transform(X) # 다시 dict으로 바꿔줌"
      ],
      "execution_count": 14,
      "outputs": [
        {
          "output_type": "execute_result",
          "data": {
            "text/plain": [
              "[{'daeun': 1.0, 'jungmin': 2.0}, {'boaz': 2.0, 'kihong': 3.0}]"
            ]
          },
          "metadata": {
            "tags": []
          },
          "execution_count": 14
        }
      ]
    },
    {
      "cell_type": "markdown",
      "metadata": {
        "id": "mFCw0KPchb-m",
        "colab_type": "text"
      },
      "source": [
        "![990A2D405BDAAD6432.png](data:image/png;base64,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)"
      ]
    },
    {
      "cell_type": "markdown",
      "metadata": {
        "id": "sLNH0MfXt8-_",
        "colab_type": "text"
      },
      "source": [
        "# **Modeling with movielens**"
      ]
    },
    {
      "cell_type": "code",
      "metadata": {
        "id": "5ezkt68LFAfh",
        "colab_type": "code",
        "colab": {
          "base_uri": "https://localhost:8080/",
          "height": 124
        },
        "outputId": "05cb6bda-7473-438f-baae-8091ec32d1c1"
      },
      "source": [
        "from google.colab import drive\n",
        "drive.mount('/content/gdrive')"
      ],
      "execution_count": 15,
      "outputs": [
        {
          "output_type": "stream",
          "text": [
            "Go to this URL in a browser: https://accounts.google.com/o/oauth2/auth?client_id=947318989803-6bn6qk8qdgf4n4g3pfee6491hc0brc4i.apps.googleusercontent.com&redirect_uri=urn%3aietf%3awg%3aoauth%3a2.0%3aoob&scope=email%20https%3a%2f%2fwww.googleapis.com%2fauth%2fdocs.test%20https%3a%2f%2fwww.googleapis.com%2fauth%2fdrive%20https%3a%2f%2fwww.googleapis.com%2fauth%2fdrive.photos.readonly%20https%3a%2f%2fwww.googleapis.com%2fauth%2fpeopleapi.readonly&response_type=code\n",
            "\n",
            "Enter your authorization code:\n",
            "··········\n",
            "Mounted at /content/gdrive\n"
          ],
          "name": "stdout"
        }
      ]
    },
    {
      "cell_type": "code",
      "metadata": {
        "id": "3fogxtqWuYwW",
        "colab_type": "code",
        "colab": {}
      },
      "source": [
        "# load data\n",
        "ratings = pd.read_csv('/content/gdrive/My Drive/Colab Notebooks/추천스터디/ratings.dat', names=['userId', 'movieId', 'rating', 'time'], delimiter='::', engine='python')\n",
        "ratings.drop('time', axis=1, inplace=True)\n",
        "movies = pd.read_csv('/content/gdrive/My Drive/Colab Notebooks/추천스터디/movies.dat', names=['MovieId', 'Title', 'Genres'], delimiter='::', engine='python')\n",
        "users = pd.read_csv('/content/gdrive/My Drive/Colab Notebooks/추천스터디/users.dat', names=['UserId', 'Gender', 'Age', 'Occupation', 'Zip-code'], delimiter='::', engine='python')"
      ],
      "execution_count": 18,
      "outputs": []
    },
    {
      "cell_type": "code",
      "metadata": {
        "id": "3TnJhlopeOfB",
        "colab_type": "code",
        "colab": {
          "base_uri": "https://localhost:8080/",
          "height": 107
        },
        "outputId": "d1784f46-6995-4666-d4f2-0f4a1aa77cd6"
      },
      "source": [
        "ratings.head(2)"
      ],
      "execution_count": 19,
      "outputs": [
        {
          "output_type": "execute_result",
          "data": {
            "text/html": [
              "<div>\n",
              "<style scoped>\n",
              "    .dataframe tbody tr th:only-of-type {\n",
              "        vertical-align: middle;\n",
              "    }\n",
              "\n",
              "    .dataframe tbody tr th {\n",
              "        vertical-align: top;\n",
              "    }\n",
              "\n",
              "    .dataframe thead th {\n",
              "        text-align: right;\n",
              "    }\n",
              "</style>\n",
              "<table border=\"1\" class=\"dataframe\">\n",
              "  <thead>\n",
              "    <tr style=\"text-align: right;\">\n",
              "      <th></th>\n",
              "      <th>userId</th>\n",
              "      <th>movieId</th>\n",
              "      <th>rating</th>\n",
              "    </tr>\n",
              "  </thead>\n",
              "  <tbody>\n",
              "    <tr>\n",
              "      <th>0</th>\n",
              "      <td>1</td>\n",
              "      <td>1193</td>\n",
              "      <td>5</td>\n",
              "    </tr>\n",
              "    <tr>\n",
              "      <th>1</th>\n",
              "      <td>1</td>\n",
              "      <td>661</td>\n",
              "      <td>3</td>\n",
              "    </tr>\n",
              "  </tbody>\n",
              "</table>\n",
              "</div>"
            ],
            "text/plain": [
              "   userId  movieId  rating\n",
              "0       1     1193       5\n",
              "1       1      661       3"
            ]
          },
          "metadata": {
            "tags": []
          },
          "execution_count": 19
        }
      ]
    },
    {
      "cell_type": "code",
      "metadata": {
        "id": "p4hejjzVeOVf",
        "colab_type": "code",
        "colab": {
          "base_uri": "https://localhost:8080/",
          "height": 107
        },
        "outputId": "c7f0eda8-fe55-43e1-9ba4-ae5a55f387c2"
      },
      "source": [
        "movies.head(2)"
      ],
      "execution_count": 20,
      "outputs": [
        {
          "output_type": "execute_result",
          "data": {
            "text/html": [
              "<div>\n",
              "<style scoped>\n",
              "    .dataframe tbody tr th:only-of-type {\n",
              "        vertical-align: middle;\n",
              "    }\n",
              "\n",
              "    .dataframe tbody tr th {\n",
              "        vertical-align: top;\n",
              "    }\n",
              "\n",
              "    .dataframe thead th {\n",
              "        text-align: right;\n",
              "    }\n",
              "</style>\n",
              "<table border=\"1\" class=\"dataframe\">\n",
              "  <thead>\n",
              "    <tr style=\"text-align: right;\">\n",
              "      <th></th>\n",
              "      <th>MovieId</th>\n",
              "      <th>Title</th>\n",
              "      <th>Genres</th>\n",
              "    </tr>\n",
              "  </thead>\n",
              "  <tbody>\n",
              "    <tr>\n",
              "      <th>0</th>\n",
              "      <td>1</td>\n",
              "      <td>Toy Story (1995)</td>\n",
              "      <td>Animation|Children's|Comedy</td>\n",
              "    </tr>\n",
              "    <tr>\n",
              "      <th>1</th>\n",
              "      <td>2</td>\n",
              "      <td>Jumanji (1995)</td>\n",
              "      <td>Adventure|Children's|Fantasy</td>\n",
              "    </tr>\n",
              "  </tbody>\n",
              "</table>\n",
              "</div>"
            ],
            "text/plain": [
              "   MovieId             Title                        Genres\n",
              "0        1  Toy Story (1995)   Animation|Children's|Comedy\n",
              "1        2    Jumanji (1995)  Adventure|Children's|Fantasy"
            ]
          },
          "metadata": {
            "tags": []
          },
          "execution_count": 20
        }
      ]
    },
    {
      "cell_type": "code",
      "metadata": {
        "id": "LgT8hWKseOTJ",
        "colab_type": "code",
        "colab": {
          "base_uri": "https://localhost:8080/",
          "height": 107
        },
        "outputId": "89ca4163-90e9-48a1-843a-2100c6624759"
      },
      "source": [
        "users.head(2)"
      ],
      "execution_count": 21,
      "outputs": [
        {
          "output_type": "execute_result",
          "data": {
            "text/html": [
              "<div>\n",
              "<style scoped>\n",
              "    .dataframe tbody tr th:only-of-type {\n",
              "        vertical-align: middle;\n",
              "    }\n",
              "\n",
              "    .dataframe tbody tr th {\n",
              "        vertical-align: top;\n",
              "    }\n",
              "\n",
              "    .dataframe thead th {\n",
              "        text-align: right;\n",
              "    }\n",
              "</style>\n",
              "<table border=\"1\" class=\"dataframe\">\n",
              "  <thead>\n",
              "    <tr style=\"text-align: right;\">\n",
              "      <th></th>\n",
              "      <th>UserId</th>\n",
              "      <th>Gender</th>\n",
              "      <th>Age</th>\n",
              "      <th>Occupation</th>\n",
              "      <th>Zip-code</th>\n",
              "    </tr>\n",
              "  </thead>\n",
              "  <tbody>\n",
              "    <tr>\n",
              "      <th>0</th>\n",
              "      <td>1</td>\n",
              "      <td>F</td>\n",
              "      <td>1</td>\n",
              "      <td>10</td>\n",
              "      <td>48067</td>\n",
              "    </tr>\n",
              "    <tr>\n",
              "      <th>1</th>\n",
              "      <td>2</td>\n",
              "      <td>M</td>\n",
              "      <td>56</td>\n",
              "      <td>16</td>\n",
              "      <td>70072</td>\n",
              "    </tr>\n",
              "  </tbody>\n",
              "</table>\n",
              "</div>"
            ],
            "text/plain": [
              "   UserId Gender  Age  Occupation Zip-code\n",
              "0       1      F    1          10    48067\n",
              "1       2      M   56          16    70072"
            ]
          },
          "metadata": {
            "tags": []
          },
          "execution_count": 21
        }
      ]
    },
    {
      "cell_type": "code",
      "metadata": {
        "id": "0nZawyMPhS8w",
        "colab_type": "code",
        "colab": {
          "base_uri": "https://localhost:8080/",
          "height": 52
        },
        "outputId": "430e21dc-2ca2-4167-b4a9-91d396389d13"
      },
      "source": [
        "n_users = ratings.userId.unique().shape[0]\n",
        "n_movies = ratings.movieId.unique().shape[0]\n",
        "\n",
        "print('Unique한 user의 수 : {}'.format(n_users))\n",
        "print('Unique한 movie의 수 : {}'.format(n_movies))"
      ],
      "execution_count": 22,
      "outputs": [
        {
          "output_type": "stream",
          "text": [
            "Unique한 user의 수 : 6040\n",
            "Unique한 movie의 수 : 3706\n"
          ],
          "name": "stdout"
        }
      ]
    },
    {
      "cell_type": "markdown",
      "metadata": {
        "id": "vGqasUSkpvac",
        "colab_type": "text"
      },
      "source": [
        "## LightFM\n",
        "- popular recomendation algorithms for both implicit and explicit feedback.\n",
        "- possible to incorporate both item and user metadata into the traditional matrix factorization algorithms.\n",
        "- It represents each user and item as the sum of the latent representations of their features, thus allowing recommendations to generalise to new items (via item features) and to new users (via user features).\n",
        "- http://lyst.github.io/lightfm/docs/index.html"
      ]
    },
    {
      "cell_type": "code",
      "metadata": {
        "id": "FWo50uhywYGF",
        "colab_type": "code",
        "colab": {
          "base_uri": "https://localhost:8080/",
          "height": 334
        },
        "outputId": "b4348606-854c-47e3-805d-dc796cc24e0c"
      },
      "source": [
        "!pip install lightfm"
      ],
      "execution_count": 29,
      "outputs": [
        {
          "output_type": "stream",
          "text": [
            "Collecting lightfm\n",
            "\u001b[?25l  Downloading https://files.pythonhosted.org/packages/e9/8e/5485ac5a8616abe1c673d1e033e2f232b4319ab95424b42499fabff2257f/lightfm-1.15.tar.gz (302kB)\n",
            "\u001b[K     |████████████████████████████████| 307kB 2.7MB/s \n",
            "\u001b[?25hRequirement already satisfied: numpy in /usr/local/lib/python3.6/dist-packages (from lightfm) (1.18.5)\n",
            "Requirement already satisfied: scipy>=0.17.0 in /usr/local/lib/python3.6/dist-packages (from lightfm) (1.4.1)\n",
            "Requirement already satisfied: requests in /usr/local/lib/python3.6/dist-packages (from lightfm) (2.23.0)\n",
            "Requirement already satisfied: chardet<4,>=3.0.2 in /usr/local/lib/python3.6/dist-packages (from requests->lightfm) (3.0.4)\n",
            "Requirement already satisfied: idna<3,>=2.5 in /usr/local/lib/python3.6/dist-packages (from requests->lightfm) (2.10)\n",
            "Requirement already satisfied: certifi>=2017.4.17 in /usr/local/lib/python3.6/dist-packages (from requests->lightfm) (2020.6.20)\n",
            "Requirement already satisfied: urllib3!=1.25.0,!=1.25.1,<1.26,>=1.21.1 in /usr/local/lib/python3.6/dist-packages (from requests->lightfm) (1.24.3)\n",
            "Building wheels for collected packages: lightfm\n",
            "  Building wheel for lightfm (setup.py) ... \u001b[?25l\u001b[?25hdone\n",
            "  Created wheel for lightfm: filename=lightfm-1.15-cp36-cp36m-linux_x86_64.whl size=707640 sha256=85c89f6fdf3beb9033715f89235271b80df4758ad2de09b38c354cc5d8974c12\n",
            "  Stored in directory: /root/.cache/pip/wheels/eb/bb/ac/188385a5da6627956be5d9663928483b36da576149ab5b8f79\n",
            "Successfully built lightfm\n",
            "Installing collected packages: lightfm\n",
            "Successfully installed lightfm-1.15\n"
          ],
          "name": "stdout"
        }
      ]
    },
    {
      "cell_type": "code",
      "metadata": {
        "id": "tb54vmluwYDg",
        "colab_type": "code",
        "colab": {}
      },
      "source": [
        "from lightfm import LightFM\n",
        "from lightfm.evaluation import precision_at_k, recall_at_k, auc_score\n",
        "from lightfm.data import Dataset\n",
        "from lightfm.cross_validation import random_train_test_split\n",
        "\n",
        "import pandas as pd\n",
        "import numpy as np\n",
        "from sklearn.externals import joblib\n",
        "import warnings\n",
        "warnings.filterwarnings('ignore')"
      ],
      "execution_count": 34,
      "outputs": []
    },
    {
      "cell_type": "code",
      "metadata": {
        "id": "o0HtTnetwYBt",
        "colab_type": "code",
        "colab": {
          "base_uri": "https://localhost:8080/",
          "height": 107
        },
        "outputId": "bfd3184a-722a-4ef1-fca4-940b3600d8e3"
      },
      "source": [
        "# item_info\n",
        "movies.head(2)"
      ],
      "execution_count": 38,
      "outputs": [
        {
          "output_type": "execute_result",
          "data": {
            "text/html": [
              "<div>\n",
              "<style scoped>\n",
              "    .dataframe tbody tr th:only-of-type {\n",
              "        vertical-align: middle;\n",
              "    }\n",
              "\n",
              "    .dataframe tbody tr th {\n",
              "        vertical-align: top;\n",
              "    }\n",
              "\n",
              "    .dataframe thead th {\n",
              "        text-align: right;\n",
              "    }\n",
              "</style>\n",
              "<table border=\"1\" class=\"dataframe\">\n",
              "  <thead>\n",
              "    <tr style=\"text-align: right;\">\n",
              "      <th></th>\n",
              "      <th>MovieId</th>\n",
              "      <th>Title</th>\n",
              "      <th>Genres</th>\n",
              "    </tr>\n",
              "  </thead>\n",
              "  <tbody>\n",
              "    <tr>\n",
              "      <th>0</th>\n",
              "      <td>1</td>\n",
              "      <td>Toy Story (1995)</td>\n",
              "      <td>Animation|Children's|Comedy</td>\n",
              "    </tr>\n",
              "    <tr>\n",
              "      <th>1</th>\n",
              "      <td>2</td>\n",
              "      <td>Jumanji (1995)</td>\n",
              "      <td>Adventure|Children's|Fantasy</td>\n",
              "    </tr>\n",
              "  </tbody>\n",
              "</table>\n",
              "</div>"
            ],
            "text/plain": [
              "   MovieId             Title                        Genres\n",
              "0        1  Toy Story (1995)   Animation|Children's|Comedy\n",
              "1        2    Jumanji (1995)  Adventure|Children's|Fantasy"
            ]
          },
          "metadata": {
            "tags": []
          },
          "execution_count": 38
        }
      ]
    },
    {
      "cell_type": "code",
      "metadata": {
        "id": "J_pCQWLWwc6g",
        "colab_type": "code",
        "colab": {
          "base_uri": "https://localhost:8080/",
          "height": 107
        },
        "outputId": "be050997-847b-418d-aa58-c5677b6bfec6"
      },
      "source": [
        "# user_info\n",
        "users.head(2)"
      ],
      "execution_count": 39,
      "outputs": [
        {
          "output_type": "execute_result",
          "data": {
            "text/html": [
              "<div>\n",
              "<style scoped>\n",
              "    .dataframe tbody tr th:only-of-type {\n",
              "        vertical-align: middle;\n",
              "    }\n",
              "\n",
              "    .dataframe tbody tr th {\n",
              "        vertical-align: top;\n",
              "    }\n",
              "\n",
              "    .dataframe thead th {\n",
              "        text-align: right;\n",
              "    }\n",
              "</style>\n",
              "<table border=\"1\" class=\"dataframe\">\n",
              "  <thead>\n",
              "    <tr style=\"text-align: right;\">\n",
              "      <th></th>\n",
              "      <th>UserId</th>\n",
              "      <th>Gender</th>\n",
              "      <th>Age</th>\n",
              "      <th>Occupation</th>\n",
              "      <th>Zip-code</th>\n",
              "    </tr>\n",
              "  </thead>\n",
              "  <tbody>\n",
              "    <tr>\n",
              "      <th>0</th>\n",
              "      <td>1</td>\n",
              "      <td>F</td>\n",
              "      <td>1</td>\n",
              "      <td>10</td>\n",
              "      <td>48067</td>\n",
              "    </tr>\n",
              "    <tr>\n",
              "      <th>1</th>\n",
              "      <td>2</td>\n",
              "      <td>M</td>\n",
              "      <td>56</td>\n",
              "      <td>16</td>\n",
              "      <td>70072</td>\n",
              "    </tr>\n",
              "  </tbody>\n",
              "</table>\n",
              "</div>"
            ],
            "text/plain": [
              "   UserId Gender  Age  Occupation Zip-code\n",
              "0       1      F    1          10    48067\n",
              "1       2      M   56          16    70072"
            ]
          },
          "metadata": {
            "tags": []
          },
          "execution_count": 39
        }
      ]
    },
    {
      "cell_type": "code",
      "metadata": {
        "id": "XplEquTfwc2N",
        "colab_type": "code",
        "colab": {
          "base_uri": "https://localhost:8080/",
          "height": 107
        },
        "outputId": "89d77919-3ac4-4e4e-b2fe-32f2c1f6c89d"
      },
      "source": [
        "# rating (explicit)\n",
        "ratings.head(2)"
      ],
      "execution_count": 40,
      "outputs": [
        {
          "output_type": "execute_result",
          "data": {
            "text/html": [
              "<div>\n",
              "<style scoped>\n",
              "    .dataframe tbody tr th:only-of-type {\n",
              "        vertical-align: middle;\n",
              "    }\n",
              "\n",
              "    .dataframe tbody tr th {\n",
              "        vertical-align: top;\n",
              "    }\n",
              "\n",
              "    .dataframe thead th {\n",
              "        text-align: right;\n",
              "    }\n",
              "</style>\n",
              "<table border=\"1\" class=\"dataframe\">\n",
              "  <thead>\n",
              "    <tr style=\"text-align: right;\">\n",
              "      <th></th>\n",
              "      <th>userId</th>\n",
              "      <th>movieId</th>\n",
              "      <th>rating</th>\n",
              "    </tr>\n",
              "  </thead>\n",
              "  <tbody>\n",
              "    <tr>\n",
              "      <th>0</th>\n",
              "      <td>1</td>\n",
              "      <td>1193</td>\n",
              "      <td>5</td>\n",
              "    </tr>\n",
              "    <tr>\n",
              "      <th>1</th>\n",
              "      <td>1</td>\n",
              "      <td>661</td>\n",
              "      <td>3</td>\n",
              "    </tr>\n",
              "  </tbody>\n",
              "</table>\n",
              "</div>"
            ],
            "text/plain": [
              "   userId  movieId  rating\n",
              "0       1     1193       5\n",
              "1       1      661       3"
            ]
          },
          "metadata": {
            "tags": []
          },
          "execution_count": 40
        }
      ]
    },
    {
      "cell_type": "code",
      "metadata": {
        "id": "fWPTDViKu-Yo",
        "colab_type": "code",
        "colab": {
          "base_uri": "https://localhost:8080/",
          "height": 34
        },
        "outputId": "f6bc169c-99db-4e9b-d5e2-ceb5849febb5"
      },
      "source": [
        "print(movies.shape, users.shape, ratings.shape)"
      ],
      "execution_count": 52,
      "outputs": [
        {
          "output_type": "stream",
          "text": [
            "(3883, 3) (6040, 5) (1000209, 3)\n"
          ],
          "name": "stdout"
        }
      ]
    },
    {
      "cell_type": "markdown",
      "metadata": {
        "id": "MhtVqkZ8rltR",
        "colab_type": "text"
      },
      "source": [
        "### Transform Data"
      ]
    },
    {
      "cell_type": "code",
      "metadata": {
        "id": "BmDX9rwNwc0I",
        "colab_type": "code",
        "colab": {}
      },
      "source": [
        "# User & Item feature를 추가하기 위해 아래와 같은 형식으로 지정\n",
        "user_info = (\n",
        "    users['UserId'], \n",
        "    users['Gender'],\n",
        "    users['Age'],\n",
        "    users['Occupation'],\n",
        "    users['Zip-code'],\n",
        ")\n",
        "\n",
        "item_info = (\n",
        "    movies['MovieId'],\n",
        "    movies['Title'], \n",
        "    movies['Genres'],\n",
        ")"
      ],
      "execution_count": 70,
      "outputs": []
    },
    {
      "cell_type": "code",
      "metadata": {
        "id": "1JyL617fwcuh",
        "colab_type": "code",
        "colab": {}
      },
      "source": [
        "def build_features(ftype, dataset, features):\n",
        "    \n",
        "    uf = []\n",
        "\n",
        "    for r in range(len(features[0])):\n",
        "        uf1 = []\n",
        "        for c in range(1, len(features)):\n",
        "            uf1.append(features[c].iloc[r])\n",
        "        uf.append((features[0].iloc[r], uf1))    \n",
        "\n",
        "    for c in range(1, len(features)):\n",
        "        if ftype == 'user':\n",
        "            dataset.fit_partial(users=features[0], user_features=features[c])\n",
        "        else:\n",
        "            dataset.fit_partial(items=features[0], item_features=features[c])  \n",
        "\n",
        "    if ftype == 'user':\n",
        "        return dataset.build_user_features(uf)\n",
        "    else:\n",
        "        return dataset.build_item_features(uf)   "
      ],
      "execution_count": 71,
      "outputs": []
    },
    {
      "cell_type": "code",
      "metadata": {
        "id": "TSID1PDCnuJf",
        "colab_type": "code",
        "colab": {}
      },
      "source": [
        "ds = Dataset()\n",
        "\n",
        "# 1. Specify user_ids & item_ids\n",
        "ds.fit(users=users['UserId'], items=movies['MovieId'])\n",
        "\n",
        "# 2. Build Interaction Matrix (like ratings matrix)\n",
        "interactions, weights = ds.build_interactions( [ (i, j) for i, j in zip(ratings['userId'], ratings['movieId'])])"
      ],
      "execution_count": 72,
      "outputs": []
    },
    {
      "cell_type": "code",
      "metadata": {
        "id": "3dYsbg5kxLrN",
        "colab_type": "code",
        "colab": {
          "base_uri": "https://localhost:8080/",
          "height": 227
        },
        "outputId": "8183f42b-525b-41c4-a75d-c300caf65860"
      },
      "source": [
        "user_info[0]"
      ],
      "execution_count": 73,
      "outputs": [
        {
          "output_type": "execute_result",
          "data": {
            "text/plain": [
              "0          1\n",
              "1          2\n",
              "2          3\n",
              "3          4\n",
              "4          5\n",
              "        ... \n",
              "6035    6036\n",
              "6036    6037\n",
              "6037    6038\n",
              "6038    6039\n",
              "6039    6040\n",
              "Name: UserId, Length: 6040, dtype: int64"
            ]
          },
          "metadata": {
            "tags": []
          },
          "execution_count": 73
        }
      ]
    },
    {
      "cell_type": "code",
      "metadata": {
        "id": "U7N_AXx5xU6t",
        "colab_type": "code",
        "colab": {
          "base_uri": "https://localhost:8080/",
          "height": 34
        },
        "outputId": "5e9a35c8-9e0f-46f8-a3ed-8fd65665b062"
      },
      "source": [
        "len(user_info)"
      ],
      "execution_count": 62,
      "outputs": [
        {
          "output_type": "execute_result",
          "data": {
            "text/plain": [
              "5"
            ]
          },
          "metadata": {
            "tags": []
          },
          "execution_count": 62
        }
      ]
    },
    {
      "cell_type": "code",
      "metadata": {
        "id": "cZH3ga4-nuRx",
        "colab_type": "code",
        "colab": {}
      },
      "source": [
        "## side info\n",
        "# 3. Build user feature & item features\n",
        "user_features = build_features('user', ds, user_info)\n",
        "item_features = build_features('item', ds, item_info)"
      ],
      "execution_count": 74,
      "outputs": []
    },
    {
      "cell_type": "code",
      "metadata": {
        "id": "UONYLBou1JRc",
        "colab_type": "code",
        "colab": {
          "base_uri": "https://localhost:8080/",
          "height": 52
        },
        "outputId": "b48297fe-ce8a-43fc-e84a-3e5b51a990cd"
      },
      "source": [
        "user_features"
      ],
      "execution_count": 76,
      "outputs": [
        {
          "output_type": "execute_result",
          "data": {
            "text/plain": [
              "<6040x9482 sparse matrix of type '<class 'numpy.float32'>'\n",
              "\twith 30182 stored elements in Compressed Sparse Row format>"
            ]
          },
          "metadata": {
            "tags": []
          },
          "execution_count": 76
        }
      ]
    },
    {
      "cell_type": "markdown",
      "metadata": {
        "id": "tZzSD8e-y-z0",
        "colab_type": "text"
      },
      "source": [
        "### split data"
      ]
    },
    {
      "cell_type": "code",
      "metadata": {
        "id": "-ZGP0ZQKyHYr",
        "colab_type": "code",
        "colab": {}
      },
      "source": [
        "train, test = random_train_test_split(interactions, test_percentage=0.25, random_state=np.random.RandomState(123))"
      ],
      "execution_count": 77,
      "outputs": []
    },
    {
      "cell_type": "code",
      "metadata": {
        "id": "GsDpaSBCyJGD",
        "colab_type": "code",
        "colab": {
          "base_uri": "https://localhost:8080/",
          "height": 52
        },
        "outputId": "b18cd56d-4a7b-461c-aa04-0f864149c717"
      },
      "source": [
        "train"
      ],
      "execution_count": 78,
      "outputs": [
        {
          "output_type": "execute_result",
          "data": {
            "text/plain": [
              "<6040x3883 sparse matrix of type '<class 'numpy.int32'>'\n",
              "\twith 750156 stored elements in COOrdinate format>"
            ]
          },
          "metadata": {
            "tags": []
          },
          "execution_count": 78
        }
      ]
    },
    {
      "cell_type": "code",
      "metadata": {
        "id": "9ypVaoewzKFv",
        "colab_type": "code",
        "colab": {
          "base_uri": "https://localhost:8080/",
          "height": 104
        },
        "outputId": "bff5f29b-f0cb-4b9c-8f6b-c1ce4d5b3512"
      },
      "source": [
        "m1 = LightFM(loss='warp', random_state=123)  # Refer to LightFM API\n",
        "%time m1.fit(train)\n",
        "m2 = LightFM(loss='warp', random_state=123)  # Refer to LightFM API\n",
        "%time m2.fit(train, user_features=user_features, item_features=item_features)"
      ],
      "execution_count": 79,
      "outputs": [
        {
          "output_type": "stream",
          "text": [
            "CPU times: user 796 ms, sys: 0 ns, total: 796 ms\n",
            "Wall time: 796 ms\n",
            "CPU times: user 1.49 s, sys: 0 ns, total: 1.49 s\n",
            "Wall time: 1.49 s\n"
          ],
          "name": "stdout"
        },
        {
          "output_type": "execute_result",
          "data": {
            "text/plain": [
              "<lightfm.lightfm.LightFM at 0x7ff9ca51abe0>"
            ]
          },
          "metadata": {
            "tags": []
          },
          "execution_count": 79
        }
      ]
    },
    {
      "cell_type": "code",
      "metadata": {
        "id": "eVOleNBW0B_p",
        "colab_type": "code",
        "colab": {
          "base_uri": "https://localhost:8080/",
          "height": 122
        },
        "outputId": "bec3dcd0-19a5-46cf-87b2-8ca694c0bebd"
      },
      "source": [
        "# Compute precision, recall & f1-score\n",
        "def precision_recall_score(model, data, user_features, item_features, k):\n",
        "    precision = precision_at_k(model, data, user_features=user_features, item_features=item_features, k=k).mean()\n",
        "    recall = recall_at_k(model, data, user_features=user_features, item_features=item_features, k=k).mean()\n",
        "    f1_score = 2 * (precision * recall) / (precision + recall)\n",
        "    return precision, recall, f1_score\n",
        "\n",
        "%time print(precision_recall_score(m1, test, user_features=None, item_features=None, k=10))\n",
        "%time print(precision_recall_score(m2, test, user_features=user_features, item_features=item_features, k=10))"
      ],
      "execution_count": 81,
      "outputs": [
        {
          "output_type": "stream",
          "text": [
            "(0.12856434, 0.05038025863413966, 0.07239229113683172)\n",
            "CPU times: user 4.85 s, sys: 0 ns, total: 4.85 s\n",
            "Wall time: 4.85 s\n",
            "(0.119158804, 0.0454548159747065, 0.0658067238135946)\n",
            "CPU times: user 5.54 s, sys: 0 ns, total: 5.54 s\n",
            "Wall time: 5.54 s\n"
          ],
          "name": "stdout"
        }
      ]
    },
    {
      "cell_type": "markdown",
      "metadata": {
        "id": "8LheCt950M58",
        "colab_type": "text"
      },
      "source": [
        "### Recommend top_N items"
      ]
    },
    {
      "cell_type": "code",
      "metadata": {
        "id": "d1jk063K0PrX",
        "colab_type": "code",
        "colab": {
          "base_uri": "https://localhost:8080/",
          "height": 442
        },
        "outputId": "33d68cbc-7b3a-438b-ce7e-56c66ebd68af"
      },
      "source": [
        "# Recommend top-N items for each user\n",
        "def make_recommendation(model, dataset, user_features, item_features, n_users, k):\n",
        "    n_items = dataset.interactions_shape()[1]\n",
        "    recs = []\n",
        "    for user_id in range(n_users):\n",
        "        scores = model.predict(user_id, np.arange(n_items), user_features=user_features, item_features=item_features)\n",
        "        top_items = np.argsort(-scores)[:k]      \n",
        "        rec = [list(dataset.mapping()[2].keys())[i] for i in top_items]\n",
        "        recs.append(rec)\n",
        "    recs = pd.DataFrame(pd.DataFrame(recs, index=list(dataset.mapping()[0].keys())[:n_users]).stack()).reset_index(). \\\n",
        "                    rename({'level_0':'user_id', 'level_1': 'rank', 0: 'item_id'}, axis=1).iloc[:,[0,2,1]]\n",
        "    return recs    \n",
        "\n",
        "%time make_recommendation(m2, ds, user_features=user_features, item_features=item_features, n_users=1000, k=10)"
      ],
      "execution_count": 82,
      "outputs": [
        {
          "output_type": "stream",
          "text": [
            "CPU times: user 1.2 s, sys: 262 µs, total: 1.2 s\n",
            "Wall time: 1.21 s\n"
          ],
          "name": "stdout"
        },
        {
          "output_type": "execute_result",
          "data": {
            "text/html": [
              "<div>\n",
              "<style scoped>\n",
              "    .dataframe tbody tr th:only-of-type {\n",
              "        vertical-align: middle;\n",
              "    }\n",
              "\n",
              "    .dataframe tbody tr th {\n",
              "        vertical-align: top;\n",
              "    }\n",
              "\n",
              "    .dataframe thead th {\n",
              "        text-align: right;\n",
              "    }\n",
              "</style>\n",
              "<table border=\"1\" class=\"dataframe\">\n",
              "  <thead>\n",
              "    <tr style=\"text-align: right;\">\n",
              "      <th></th>\n",
              "      <th>user_id</th>\n",
              "      <th>item_id</th>\n",
              "      <th>rank</th>\n",
              "    </tr>\n",
              "  </thead>\n",
              "  <tbody>\n",
              "    <tr>\n",
              "      <th>0</th>\n",
              "      <td>1</td>\n",
              "      <td>2396</td>\n",
              "      <td>0</td>\n",
              "    </tr>\n",
              "    <tr>\n",
              "      <th>1</th>\n",
              "      <td>1</td>\n",
              "      <td>2858</td>\n",
              "      <td>1</td>\n",
              "    </tr>\n",
              "    <tr>\n",
              "      <th>2</th>\n",
              "      <td>1</td>\n",
              "      <td>1265</td>\n",
              "      <td>2</td>\n",
              "    </tr>\n",
              "    <tr>\n",
              "      <th>3</th>\n",
              "      <td>1</td>\n",
              "      <td>1307</td>\n",
              "      <td>3</td>\n",
              "    </tr>\n",
              "    <tr>\n",
              "      <th>4</th>\n",
              "      <td>1</td>\n",
              "      <td>260</td>\n",
              "      <td>4</td>\n",
              "    </tr>\n",
              "    <tr>\n",
              "      <th>...</th>\n",
              "      <td>...</td>\n",
              "      <td>...</td>\n",
              "      <td>...</td>\n",
              "    </tr>\n",
              "    <tr>\n",
              "      <th>9995</th>\n",
              "      <td>1000</td>\n",
              "      <td>1307</td>\n",
              "      <td>5</td>\n",
              "    </tr>\n",
              "    <tr>\n",
              "      <th>9996</th>\n",
              "      <td>1000</td>\n",
              "      <td>593</td>\n",
              "      <td>6</td>\n",
              "    </tr>\n",
              "    <tr>\n",
              "      <th>9997</th>\n",
              "      <td>1000</td>\n",
              "      <td>608</td>\n",
              "      <td>7</td>\n",
              "    </tr>\n",
              "    <tr>\n",
              "      <th>9998</th>\n",
              "      <td>1000</td>\n",
              "      <td>356</td>\n",
              "      <td>8</td>\n",
              "    </tr>\n",
              "    <tr>\n",
              "      <th>9999</th>\n",
              "      <td>1000</td>\n",
              "      <td>318</td>\n",
              "      <td>9</td>\n",
              "    </tr>\n",
              "  </tbody>\n",
              "</table>\n",
              "<p>10000 rows × 3 columns</p>\n",
              "</div>"
            ],
            "text/plain": [
              "      user_id  item_id  rank\n",
              "0           1     2396     0\n",
              "1           1     2858     1\n",
              "2           1     1265     2\n",
              "3           1     1307     3\n",
              "4           1      260     4\n",
              "...       ...      ...   ...\n",
              "9995     1000     1307     5\n",
              "9996     1000      593     6\n",
              "9997     1000      608     7\n",
              "9998     1000      356     8\n",
              "9999     1000      318     9\n",
              "\n",
              "[10000 rows x 3 columns]"
            ]
          },
          "metadata": {
            "tags": []
          },
          "execution_count": 82
        }
      ]
    },
    {
      "cell_type": "markdown",
      "metadata": {
        "id": "opuHR3EI2Q6E",
        "colab_type": "text"
      },
      "source": [
        "#### cf 1. lightfm 내장 데이터셋 이용\n"
      ]
    },
    {
      "cell_type": "code",
      "metadata": {
        "id": "xM89e5MKnuCo",
        "colab_type": "code",
        "colab": {}
      },
      "source": [
        "import numpy as np\n",
        "from lightfm.datasets import fetch_movielens\n",
        "\n",
        "data = fetch_movielens()"
      ],
      "execution_count": 84,
      "outputs": []
    },
    {
      "cell_type": "code",
      "metadata": {
        "id": "UxFauWF3wFoS",
        "colab_type": "code",
        "colab": {
          "base_uri": "https://localhost:8080/",
          "height": 227
        },
        "outputId": "7dbbc917-02c1-4f9c-9dac-bc5a5f1da878"
      },
      "source": [
        "data"
      ],
      "execution_count": 85,
      "outputs": [
        {
          "output_type": "execute_result",
          "data": {
            "text/plain": [
              "{'item_feature_labels': array(['Toy Story (1995)', 'GoldenEye (1995)', 'Four Rooms (1995)', ...,\n",
              "        'Sliding Doors (1998)', 'You So Crazy (1994)',\n",
              "        'Scream of Stone (Schrei aus Stein) (1991)'], dtype=object),\n",
              " 'item_features': <1682x1682 sparse matrix of type '<class 'numpy.float32'>'\n",
              " \twith 1682 stored elements in Compressed Sparse Row format>,\n",
              " 'item_labels': array(['Toy Story (1995)', 'GoldenEye (1995)', 'Four Rooms (1995)', ...,\n",
              "        'Sliding Doors (1998)', 'You So Crazy (1994)',\n",
              "        'Scream of Stone (Schrei aus Stein) (1991)'], dtype=object),\n",
              " 'test': <943x1682 sparse matrix of type '<class 'numpy.int32'>'\n",
              " \twith 9430 stored elements in COOrdinate format>,\n",
              " 'train': <943x1682 sparse matrix of type '<class 'numpy.int32'>'\n",
              " \twith 90570 stored elements in COOrdinate format>}"
            ]
          },
          "metadata": {
            "tags": []
          },
          "execution_count": 85
        }
      ]
    },
    {
      "cell_type": "code",
      "metadata": {
        "id": "91V0bhi3rIPd",
        "colab_type": "code",
        "colab": {
          "base_uri": "https://localhost:8080/",
          "height": 104
        },
        "outputId": "a2be93db-f882-49c3-dea8-6c6c78c668aa"
      },
      "source": [
        "for key, value in movielens.items():\n",
        "    print(key, type(value), value.shape)"
      ],
      "execution_count": 86,
      "outputs": [
        {
          "output_type": "stream",
          "text": [
            "train <class 'scipy.sparse.coo.coo_matrix'> (943, 1682)\n",
            "test <class 'scipy.sparse.coo.coo_matrix'> (943, 1682)\n",
            "item_features <class 'scipy.sparse.csr.csr_matrix'> (1682, 1682)\n",
            "item_feature_labels <class 'numpy.ndarray'> (1682,)\n",
            "item_labels <class 'numpy.ndarray'> (1682,)\n"
          ],
          "name": "stdout"
        }
      ]
    },
    {
      "cell_type": "code",
      "metadata": {
        "id": "ETFxWtGirINz",
        "colab_type": "code",
        "colab": {}
      },
      "source": [
        "train = movielens['train']\n",
        "test = movielens['test']"
      ],
      "execution_count": 87,
      "outputs": []
    },
    {
      "cell_type": "code",
      "metadata": {
        "id": "_cTdYWn-rIL0",
        "colab_type": "code",
        "colab": {
          "base_uri": "https://localhost:8080/",
          "height": 52
        },
        "outputId": "3370bb15-59bf-4db4-b09a-8941e4b15e6f"
      },
      "source": [
        "from lightfm import LightFM\n",
        "from lightfm.evaluation import precision_at_k\n",
        "from lightfm.evaluation import auc_score\n",
        "\n",
        "model = LightFM(learning_rate=0.05, loss='bpr')\n",
        "model.fit(train, epochs=10)\n",
        "\n",
        "train_precision = precision_at_k(model, train, k=10).mean()\n",
        "test_precision = precision_at_k(model, test, k=10).mean()\n",
        "\n",
        "train_auc = auc_score(model, train).mean()\n",
        "test_auc = auc_score(model, test).mean()\n",
        "\n",
        "print('Precision: train %.2f, test %.2f.' % (train_precision, test_precision))\n",
        "print('AUC: train %.2f, test %.2f.' % (train_auc, test_auc))"
      ],
      "execution_count": 88,
      "outputs": [
        {
          "output_type": "stream",
          "text": [
            "Precision: train 0.60, test 0.10.\n",
            "AUC: train 0.89, test 0.86.\n"
          ],
          "name": "stdout"
        }
      ]
    },
    {
      "cell_type": "code",
      "metadata": {
        "id": "e9HvhsgW47An",
        "colab_type": "code",
        "colab": {
          "base_uri": "https://localhost:8080/",
          "height": 489
        },
        "outputId": "2bfb8c3f-9bdd-4f95-9a42-90c1422913f8"
      },
      "source": [
        "def sample_recommendation(model, data, user_ids):\n",
        "\n",
        "\n",
        "    n_users, n_items = data['train'].shape\n",
        "\n",
        "    for user_id in user_ids:\n",
        "        known_positives = data['item_labels'][data['train'].tocsr()[user_id].indices]\n",
        "\n",
        "        scores = model.predict(user_id, np.arange(n_items))\n",
        "        top_items = data['item_labels'][np.argsort(-scores)]\n",
        "\n",
        "        print(\"User %s\" % user_id)\n",
        "        print(\"     Known positives:\")\n",
        "\n",
        "        for x in known_positives[:3]:\n",
        "            print(\"        %s\" % x)\n",
        "\n",
        "        print(\"     Recommended:\")\n",
        "\n",
        "        for x in top_items[:3]:\n",
        "            print(\"        %s\" % x)\n",
        "\n",
        "sample_recommendation(model, data, [3, 25, 450])"
      ],
      "execution_count": 89,
      "outputs": [
        {
          "output_type": "stream",
          "text": [
            "User 3\n",
            "     Known positives:\n",
            "        Seven (Se7en) (1995)\n",
            "        Indiana Jones and the Last Crusade (1989)\n",
            "        Contact (1997)\n",
            "     Recommended:\n",
            "        Contact (1997)\n",
            "        Air Force One (1997)\n",
            "        Scream (1996)\n",
            "User 25\n",
            "     Known positives:\n",
            "        Toy Story (1995)\n",
            "        Twelve Monkeys (1995)\n",
            "        Dead Man Walking (1995)\n",
            "     Recommended:\n",
            "        Scream (1996)\n",
            "        Devil's Own, The (1997)\n",
            "        Dante's Peak (1997)\n",
            "User 450\n",
            "     Known positives:\n",
            "        Kolya (1996)\n",
            "        Devil's Own, The (1997)\n",
            "        Contact (1997)\n",
            "     Recommended:\n",
            "        English Patient, The (1996)\n",
            "        Cop Land (1997)\n",
            "        Seven Years in Tibet (1997)\n"
          ],
          "name": "stdout"
        }
      ]
    },
    {
      "cell_type": "markdown",
      "metadata": {
        "id": "U5LgyVtA4L2N",
        "colab_type": "text"
      },
      "source": [
        "### cf2. FM Function 직접생성\n"
      ]
    },
    {
      "cell_type": "code",
      "metadata": {
        "id": "FGDv8EbPrIEh",
        "colab_type": "code",
        "colab": {}
      },
      "source": [
        "# subset data 생성\n",
        "def subsetdata(data, by, subset_quantile):\n",
        "  filter_standard = data.groupby([by]).size().reset_index(name='counts').counts.quantile(subset_quantile)\n",
        "  subset_data = data.groupby([by]).filter(lambda x : len(x) >= filter_standard)\n",
        "  return filter_standard, subset_data\n",
        "\n",
        "# split train and test data\n",
        "def split_testtrain(ratings, fraction):\n",
        "    #Transform data in matrix format\n",
        "    colnames = ratings.columns.values\n",
        "    new_colnames = [\"1_user\", \"2_movie\", \"0_rating\"]\n",
        "    ratings = ratings.rename(index=str, columns=dict(zip(colnames, new_colnames)))\n",
        "    \n",
        "    ratings_df = ratings.to_dict(orient=\"records\")\n",
        "    \n",
        "    dv = DictVectorizer()\n",
        "    ratings_mat = dv.fit_transform(ratings_df).toarray()\n",
        "    \n",
        "    #Split data\n",
        "    x_train, x_test, y_train, y_test = train_test_split(ratings_mat[:,1:], ratings_mat[:,:1], test_size=fraction)\n",
        "    \n",
        "    return x_train, x_test, y_train.T[0], y_test.T[0]\n",
        "\n",
        "#One hot encoding\n",
        "def OneHotEncoding(train,test):\n",
        "    encoder = OneHotEncoder(handle_unknown='ignore').fit(train)\n",
        "    train = encoder.transform(train)\n",
        "    test = encoder.transform(test)\n",
        "    return train, test\n",
        "\n",
        "#Gridsearch for the optimal parameter\n",
        "def param_selection(X, y, n_folds):\n",
        "    start = time.time()\n",
        "    grid_param = {  \n",
        "    'n_iter' : np.arange(0,120,25)[1:],\n",
        "    'rank' :  np.arange(2,12,4),\n",
        "    }\n",
        "    grid_search = GridSearchCV(als.FMRegression(l2_reg_w=0.1,l2_reg_V=0.1), cv=n_folds, param_grid=grid_param, verbose=10)\n",
        "    grid_search.fit(X, y)\n",
        "    grid_search.best_params_\n",
        "    print(time.time()-start)\n",
        "    return grid_search.best_params_\n",
        "\n",
        "def rec_coverage(x_test, y_test, prediction, rec_num):\n",
        "    ratings = pd.DataFrame()\n",
        "    ratings['user'] = x_test[:,0]\n",
        "    ratings['movie'] = x_test[:,1]\n",
        "    ratings['rating'] = y_test\n",
        "    \n",
        "    pred = ratings.copy()\n",
        "    pred['rating'] = prediction\n",
        "    \n",
        "    rating_table = pd.pivot_table(ratings, index='user', columns = 'movie', values = 'rating')\n",
        "    pred_table = pd.pivot_table(pred, index='user', columns = 'movie', values = 'rating')\n",
        "    \n",
        "    rec_movies = []\n",
        "    rec = pred_table - rating_table\n",
        "    for user in rec.index:\n",
        "            rec_item = pred_table.loc[user,:].sort_values(ascending = False).head(rec_num).index.tolist()\n",
        "            rec_movies += rec_item\n",
        "    n_rec = len(set(rec_movies))\n",
        "    n_movies = pred_table.shape[1]\n",
        "    coverage = round(float(n_rec)/n_movies,2)\n",
        "    \n",
        "    return coverage\n",
        "\n",
        "def FactorizationMachine(ratings, subset_by, subset_quantile):\n",
        "    #Initialize output\n",
        "    final_output = pd.DataFrame()\n",
        "    result_dict = []\n",
        "    n_iteration = 1 \n",
        "    last_RMSE = 100\n",
        "    threshold = 0\n",
        "    \n",
        "    for quantile in subset_quantile:\n",
        "        print(\"---Running iteration \" + str(n_iteration) + \" ---\")\n",
        "        print(\"---Subsetting Original Data---\")\n",
        "        #subset original data\n",
        "        if subset_by == \"user\":\n",
        "            filter_standard, subset_ratings = subsetdata(ratings, \"userId\", quantile)\n",
        "        elif subset_by == \"movie\":\n",
        "            filter_standard, subset_ratings = subsetdata(ratings, \"movieId\", quantile)\n",
        "        else:\n",
        "            f1, subset_u = subsetdata(ratings, \"userId\", quantile)\n",
        "            f2, subset_ratings = subsetdata(subset_u, \"movieId\", quantile)\n",
        "            filter_standard = \"(\"+str(f1)+\",\"+str(f2)+\")\"\n",
        "            \n",
        "        n_users = subset_ratings.userId.unique().shape[0]\n",
        "        n_movies = subset_ratings.movieId.unique().shape[0]\n",
        "        n_size = subset_ratings.shape[0]*subset_ratings.shape[1]\n",
        "        \n",
        "        sparsity = round(float(subset_ratings.shape[0]) / float(n_users*n_movies),2)\n",
        "        \n",
        "        print(\"---Spliting Test and Train Data---\")\n",
        "        #split test and train data\n",
        "        xtrain, xtest, ytrain, ytest = split_testtrain(subset_ratings, 0.2)\n",
        "\n",
        "        print(\"---Encoding Data---\")\n",
        "        #encode data\n",
        "        xtrain_enc, xtest_enc = OneHotEncoding(xtrain, xtest)\n",
        "\n",
        "        print(\"---Hyperparameter Tuning---\")\n",
        "        #Find the optimal parameter by hyperparameter tuning\n",
        "        start = time.time()\n",
        "        params = param_selection(xtrain_enc, ytrain, 3)\n",
        "        op_iter = params['n_iter']\n",
        "        op_rank = params['rank']\n",
        "        \n",
        "        print(\"---Factorization Machine---\")\n",
        "        #Factorization machine\n",
        "        fm = als.FMRegression(n_iter=op_iter, rank=op_rank, l2_reg_w=0.1, l2_reg_V=0.1)\n",
        "        fm.fit(xtrain_enc, ytrain)\n",
        "        predictions = fm.predict(xtest_enc)\n",
        "        spent_time = time.time() - start\n",
        "        #Evaluation metrics\n",
        "        rmse = sqrt(mean_squared_error(ytest,predictions))\n",
        "        mae = mean_absolute_error(ytest,predictions)\n",
        "        coverage = rec_coverage(xtest, ytest, predictions, 10)\n",
        "        \n",
        "        if rmse < last_RMSE:\n",
        "            last_RMSE = rmse\n",
        "            threshold = filter_standard\n",
        "            out = pd.DataFrame()\n",
        "            out['user'] = xtest[:,0]\n",
        "            out['movie'] = xtest[:,1]\n",
        "            out['rating'] = ytest\n",
        "            out['prediction'] = predictions\n",
        "            \n",
        "            final_output = out.copy()\n",
        "            \n",
        "        result_dict.append([quantile, filter_standard, n_size, n_users, n_movies, sparsity, op_iter, op_rank, spent_time, mae, rmse, coverage])\n",
        "        n_iteration += 1\n",
        "    \n",
        "    results = pd.DataFrame(result_dict)\n",
        "    results.columns = [\"Quantile\", \"Threshold\", \"Size\", \"Num_Users\", \"Num_Movies\", \"Sparsity\", \"OP_Iter\", \"OP_Rank\", \"Running Time\", \"MAE\", \"RMSE\", \"Coverage\"]\n",
        "    \n",
        "    final_output.to_csv(\"FM_Output_\"+subset_by+\"_\"+str(threshold)+\".csv\", sep=',', encoding='utf-8', index=False)\n",
        "    \n",
        "    return results"
      ],
      "execution_count": null,
      "outputs": []
    },
    {
      "cell_type": "markdown",
      "metadata": {
        "id": "tBXW8noB6cXm",
        "colab_type": "text"
      },
      "source": [
        "# **Appendix. Surprise 모듈을 이용한 추천**\n",
        "<Surprise 추천 알고리즘 클래스>\n",
        "- SVD \n",
        "- KNN\n",
        "- BaselineOnly : user, item bias 고려\n",
        "> +) Cross validate, GridSearch도 제공\n"
      ]
    },
    {
      "cell_type": "code",
      "metadata": {
        "id": "1Ksd4MkK-eaZ",
        "colab_type": "code",
        "colab": {
          "base_uri": "https://localhost:8080/",
          "height": 142
        },
        "outputId": "430642e2-3625-4ffb-b9d4-dcfa43b9614f"
      },
      "source": [
        "!pip install surprise"
      ],
      "execution_count": 92,
      "outputs": [
        {
          "output_type": "stream",
          "text": [
            "Requirement already satisfied: surprise in /usr/local/lib/python3.6/dist-packages (0.1)\n",
            "Requirement already satisfied: scikit-surprise in /usr/local/lib/python3.6/dist-packages (from surprise) (1.1.1)\n",
            "Requirement already satisfied: six>=1.10.0 in /usr/local/lib/python3.6/dist-packages (from scikit-surprise->surprise) (1.15.0)\n",
            "Requirement already satisfied: scipy>=1.0.0 in /usr/local/lib/python3.6/dist-packages (from scikit-surprise->surprise) (1.4.1)\n",
            "Requirement already satisfied: numpy>=1.11.2 in /usr/local/lib/python3.6/dist-packages (from scikit-surprise->surprise) (1.18.5)\n",
            "Requirement already satisfied: joblib>=0.11 in /usr/local/lib/python3.6/dist-packages (from scikit-surprise->surprise) (0.16.0)\n"
          ],
          "name": "stdout"
        }
      ]
    },
    {
      "cell_type": "code",
      "metadata": {
        "id": "Ri2aT7sfwLyy",
        "colab_type": "code",
        "colab": {
          "base_uri": "https://localhost:8080/",
          "height": 69
        },
        "outputId": "9e33687f-ee1e-4d14-8428-9e4aeee8eea8"
      },
      "source": [
        "import surprise\n",
        "import pandas as pd\n",
        "import matplotlib.pyplot as plt\n",
        "import numpy as np\n",
        "\n",
        "data = surprise.Dataset.load_builtin('ml-100k') # DatasetAutoFolds load"
      ],
      "execution_count": 95,
      "outputs": [
        {
          "output_type": "stream",
          "text": [
            "Dataset ml-100k could not be found. Do you want to download it? [Y/n] Y\n",
            "Trying to download dataset from http://files.grouplens.org/datasets/movielens/ml-100k.zip...\n",
            "Done! Dataset ml-100k has been saved to /root/.surprise_data/ml-100k\n"
          ],
          "name": "stdout"
        }
      ]
    },
    {
      "cell_type": "code",
      "metadata": {
        "id": "nkwmyoZvwLwy",
        "colab_type": "code",
        "colab": {
          "base_uri": "https://localhost:8080/",
          "height": 34
        },
        "outputId": "8a36e7de-6d24-44f3-ab0b-feabb174027a"
      },
      "source": [
        "data # DatasetAutoFolds"
      ],
      "execution_count": 97,
      "outputs": [
        {
          "output_type": "execute_result",
          "data": {
            "text/plain": [
              "<surprise.dataset.DatasetAutoFolds at 0x7ff9ca516c18>"
            ]
          },
          "metadata": {
            "tags": []
          },
          "execution_count": 97
        }
      ]
    },
    {
      "cell_type": "code",
      "metadata": {
        "id": "oUo3d8dIwLfA",
        "colab_type": "code",
        "colab": {
          "base_uri": "https://localhost:8080/",
          "height": 122
        },
        "outputId": "10abd659-412c-4752-d5f3-c3644c07d6cb"
      },
      "source": [
        "# baseline : bias 추가\n",
        "from surprise.model_selection import KFold\n",
        "np.random.seed(0)\n",
        "\n",
        "bsl_options = {\n",
        "    'method': 'als',\n",
        "    'n_epochs': 5,\n",
        "    'reg_u': 12,\n",
        "    'reg_i': 5\n",
        "}\n",
        "algo = surprise.BaselineOnly(bsl_options=bsl_options)\n",
        "\n",
        "acc = np.zeros(3)\n",
        "cv = KFold(3)\n",
        "for i, (trainset, testset) in enumerate(cv.split(data)):\n",
        "    algo.fit(trainset)\n",
        "    predictions = algo.test(testset)\n",
        "    acc[i] = surprise.accuracy.rmse(predictions, verbose=True)"
      ],
      "execution_count": 110,
      "outputs": [
        {
          "output_type": "stream",
          "text": [
            "Estimating biases using als...\n",
            "RMSE: 0.9453\n",
            "Estimating biases using als...\n",
            "RMSE: 0.9377\n",
            "Estimating biases using als...\n",
            "RMSE: 0.9500\n"
          ],
          "name": "stdout"
        }
      ]
    },
    {
      "cell_type": "code",
      "metadata": {
        "id": "yVFKJyiLHh5o",
        "colab_type": "code",
        "colab": {
          "base_uri": "https://localhost:8080/",
          "height": 52
        },
        "outputId": "7f633c2a-3af1-494b-dc43-784324f20e7c"
      },
      "source": [
        "# SVD\n",
        "trainset = data.build_full_trainset()\n",
        "algo = surprise.SVD(n_epochs=20, n_factors=50, random_state=2020)\n",
        "algo.fit(trainset)\n",
        "predictions = algo.test(testset)\n",
        "surprise.accuracy.rmse(predictions)"
      ],
      "execution_count": 124,
      "outputs": [
        {
          "output_type": "stream",
          "text": [
            "RMSE: 0.7716\n"
          ],
          "name": "stdout"
        },
        {
          "output_type": "execute_result",
          "data": {
            "text/plain": [
              "0.7715991639325044"
            ]
          },
          "metadata": {
            "tags": []
          },
          "execution_count": 124
        }
      ]
    },
    {
      "cell_type": "code",
      "metadata": {
        "id": "-Eoiep4UHhuJ",
        "colab_type": "code",
        "colab": {
          "base_uri": "https://localhost:8080/",
          "height": 54
        },
        "outputId": "d183aff5-1f2e-4f24-9741-cbbfa621441c"
      },
      "source": [
        "# cross_validation 추가\n",
        "algo_cv = surprise.SVD(n_factors=200, n_epochs=30)\n",
        "print(cross_validate(algo, data))"
      ],
      "execution_count": 121,
      "outputs": [
        {
          "output_type": "stream",
          "text": [
            "{'test_rmse': array([0.93194071, 0.94194062, 0.92772369, 0.93601591, 0.93788744]), 'test_mae': array([0.73607189, 0.74390987, 0.72981601, 0.73829658, 0.73856838]), 'fit_time': (2.923640489578247, 2.8834123611450195, 2.896371364593506, 2.902172803878784, 2.8889548778533936), 'test_time': (0.30857133865356445, 0.15729999542236328, 0.1500396728515625, 0.15418171882629395, 0.14963960647583008)}\n"
          ],
          "name": "stdout"
        }
      ]
    },
    {
      "cell_type": "code",
      "metadata": {
        "id": "nolO2CQpHhsj",
        "colab_type": "code",
        "colab": {
          "base_uri": "https://localhost:8080/",
          "height": 407
        },
        "outputId": "53010eeb-525d-4449-9c3a-3ad1d5af4c8a"
      },
      "source": [
        "# 여러 모듈 사용\n",
        "from surprise import SVD, SVDpp, SlopeOne, NMF, NormalPredictor, KNNBasic, KNNBaseline, KNNWithMeans, KNNWithZScore, BaselineOnly, CoClustering\n",
        "from surprise.model_selection import cross_validate # surprise 전용 cv\n",
        "\n",
        "benchmark = []\n",
        "for algorithm in [SVD(), NMF(), KNNBaseline(), BaselineOnly()]:\n",
        "    \n",
        "    # cross validation\n",
        "    results = cross_validate(algorithm, data, measures=['RMSE'], cv=3, verbose=False)\n",
        "    tmp = pd.DataFrame.from_dict(results).mean(axis=0)\n",
        "    tmp = tmp.append(pd.Series([str(algorithm).split(' ')[0].split('.')[-1]], index=['Algorithm']))\n",
        "    benchmark.append(tmp)\n",
        "    \n",
        "pd.DataFrame(benchmark).set_index('Algorithm').sort_values('test_rmse')    "
      ],
      "execution_count": 123,
      "outputs": [
        {
          "output_type": "stream",
          "text": [
            "Estimating biases using als...\n",
            "Computing the msd similarity matrix...\n",
            "Done computing similarity matrix.\n",
            "Estimating biases using als...\n",
            "Computing the msd similarity matrix...\n",
            "Done computing similarity matrix.\n",
            "Estimating biases using als...\n",
            "Computing the msd similarity matrix...\n",
            "Done computing similarity matrix.\n",
            "Estimating biases using als...\n",
            "Estimating biases using als...\n",
            "Estimating biases using als...\n"
          ],
          "name": "stdout"
        },
        {
          "output_type": "execute_result",
          "data": {
            "text/html": [
              "<div>\n",
              "<style scoped>\n",
              "    .dataframe tbody tr th:only-of-type {\n",
              "        vertical-align: middle;\n",
              "    }\n",
              "\n",
              "    .dataframe tbody tr th {\n",
              "        vertical-align: top;\n",
              "    }\n",
              "\n",
              "    .dataframe thead th {\n",
              "        text-align: right;\n",
              "    }\n",
              "</style>\n",
              "<table border=\"1\" class=\"dataframe\">\n",
              "  <thead>\n",
              "    <tr style=\"text-align: right;\">\n",
              "      <th></th>\n",
              "      <th>test_rmse</th>\n",
              "      <th>fit_time</th>\n",
              "      <th>test_time</th>\n",
              "    </tr>\n",
              "    <tr>\n",
              "      <th>Algorithm</th>\n",
              "      <th></th>\n",
              "      <th></th>\n",
              "      <th></th>\n",
              "    </tr>\n",
              "  </thead>\n",
              "  <tbody>\n",
              "    <tr>\n",
              "      <th>KNNBaseline</th>\n",
              "      <td>0.936344</td>\n",
              "      <td>0.286643</td>\n",
              "      <td>5.882109</td>\n",
              "    </tr>\n",
              "    <tr>\n",
              "      <th>SVD</th>\n",
              "      <td>0.944902</td>\n",
              "      <td>3.891357</td>\n",
              "      <td>0.375571</td>\n",
              "    </tr>\n",
              "    <tr>\n",
              "      <th>BaselineOnly</th>\n",
              "      <td>0.947462</td>\n",
              "      <td>0.096438</td>\n",
              "      <td>0.229139</td>\n",
              "    </tr>\n",
              "    <tr>\n",
              "      <th>NMF</th>\n",
              "      <td>0.977116</td>\n",
              "      <td>3.971769</td>\n",
              "      <td>0.263017</td>\n",
              "    </tr>\n",
              "  </tbody>\n",
              "</table>\n",
              "</div>"
            ],
            "text/plain": [
              "              test_rmse  fit_time  test_time\n",
              "Algorithm                                   \n",
              "KNNBaseline    0.936344  0.286643   5.882109\n",
              "SVD            0.944902  3.891357   0.375571\n",
              "BaselineOnly   0.947462  0.096438   0.229139\n",
              "NMF            0.977116  3.971769   0.263017"
            ]
          },
          "metadata": {
            "tags": []
          },
          "execution_count": 123
        }
      ]
    }
  ]
}